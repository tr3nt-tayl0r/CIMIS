{
  "nbformat": 4,
  "nbformat_minor": 0,
  "metadata": {
    "colab": {
      "provenance": [],
      "authorship_tag": "ABX9TyPaAay5I5qHue6pdVaPp2WZ",
      "include_colab_link": true
    },
    "kernelspec": {
      "name": "python3",
      "display_name": "Python 3"
    },
    "language_info": {
      "name": "python"
    }
  },
  "cells": [
    {
      "cell_type": "markdown",
      "metadata": {
        "id": "view-in-github",
        "colab_type": "text"
      },
      "source": [
        "<a href=\"https://colab.research.google.com/github/tr3nt-tayl0r/CIMIS/blob/main/ECDF_of_delta_ETo_Jun_Jul_Aug.ipynb\" target=\"_parent\"><img src=\"https://colab.research.google.com/assets/colab-badge.svg\" alt=\"Open In Colab\"/></a>"
      ]
    },
    {
      "cell_type": "code",
      "source": [
        "!git clone https://github.com/tr3nt-tayl0r/CIMIS.git"
      ],
      "metadata": {
        "id": "VZbyqjyVge39"
      },
      "execution_count": null,
      "outputs": []
    },
    {
      "cell_type": "code",
      "source": [
        "import glob\n",
        "import os\n",
        "import sys\n",
        "import datetime\n",
        "import numpy as np\n",
        "import pandas as pd\n",
        "import json\n",
        "import requests\n",
        "import datetime\n",
        "import matplotlib.pyplot as plt\n",
        "from google.colab import userdata\n",
        "!pip install cartopy\n",
        "import cartopy\n",
        "import geopandas as gpd\n",
        "!pip install refet\n",
        "import math\n",
        "import refet"
      ],
      "metadata": {
        "id": "PKWs7o6Ogekr"
      },
      "execution_count": null,
      "outputs": []
    },
    {
      "cell_type": "code",
      "execution_count": null,
      "metadata": {
        "id": "eLuwatBmgNTe"
      },
      "outputs": [],
      "source": [
        "import pandas as pd\n",
        "import numpy as np\n",
        "import matplotlib.pyplot as plt\n",
        "from statsmodels.distributions.empirical_distribution import ECDF\n",
        "\n",
        "station_ids = [2]\n",
        "\n",
        "for id in station_ids:\n",
        "  dir = \"/content/CIMIS/CIMIS_Project_Data/CIMIS_daily_corr_data/\"\n",
        "  file = f'station_id{id}_cimis_daily_corr.csv'\n",
        "  df = pd.read_csv(f'{dir}{file}')\n",
        "  df['Date'] = pd.to_datetime(df.Date)\n",
        "  df.set_index(pd.to_datetime(df.Date),inplace=True)\n",
        "\n",
        "  df = df[(df['Date'].dt.month == 6) | (df['Date'].dt.month == 7) | (df['Date'].dt.month == 8)]\n",
        "  months = [6,7,8]\n",
        "  names = ['June','July','August']\n",
        "  for month in months:\n",
        "    df_mon = df[(df['Date'].dt.month == month)]\n",
        "    ecdf = ECDF(df_mon['d_ETo'])\n",
        "    plt.xlim(-0.1, 2.6)\n",
        "    plt.xticks([0, 0.5, 1.0, 1.5, 2.0, 2.5])\n",
        "\n",
        "    plt.plot(ecdf.x, ecdf.y, marker='.', linestyle='-')\n",
        "    plt.xlabel('Delta ETo (mm)')\n",
        "    plt.ylabel('Probability')\n",
        "    plt.title(f'ECDF of Delta ETo (mm) Station {id} Jun, Jul, Aug 2003-2024')\n",
        "    plt.grid(True)\n",
        "    plt.legend(names)\n",
        "\n",
        "\n"
      ]
    }
  ]
}