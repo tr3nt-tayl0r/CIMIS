{
  "nbformat": 4,
  "nbformat_minor": 0,
  "metadata": {
    "colab": {
      "provenance": [],
      "authorship_tag": "ABX9TyMNaMLh3IH4IS4GqUyabyhh",
      "include_colab_link": true
    },
    "kernelspec": {
      "name": "python3",
      "display_name": "Python 3"
    },
    "language_info": {
      "name": "python"
    }
  },
  "cells": [
    {
      "cell_type": "markdown",
      "metadata": {
        "id": "view-in-github",
        "colab_type": "text"
      },
      "source": [
        "<a href=\"https://colab.research.google.com/github/tr3nt-tayl0r/CIMIS/blob/main/cimis_corrections.ipynb\" target=\"_parent\"><img src=\"https://colab.research.google.com/assets/colab-badge.svg\" alt=\"Open In Colab\"/></a>"
      ]
    },
    {
      "cell_type": "markdown",
      "source": [
        "Clone into github repo locally"
      ],
      "metadata": {
        "id": "45uPYowUQzvf"
      }
    },
    {
      "cell_type": "code",
      "execution_count": null,
      "metadata": {
        "colab": {
          "base_uri": "https://localhost:8080/"
        },
        "id": "Q1UxAAObKVOD",
        "outputId": "e28f6aad-9368-44cb-faf4-560795000d9c"
      },
      "outputs": [
        {
          "output_type": "stream",
          "name": "stdout",
          "text": [
            "fatal: destination path 'CIMIS_data' already exists and is not an empty directory.\n"
          ]
        }
      ],
      "source": [
        "!git clone https://github.com/tr3nt-tayl0r/CIMIS_data.git"
      ]
    },
    {
      "cell_type": "code",
      "source": [
        "import glob\n",
        "import os\n",
        "import sys\n",
        "import datetime\n",
        "import numpy as np\n",
        "import pandas as pd\n",
        "import plotly.graph_objects as go\n",
        "import json\n",
        "import requests\n",
        "from tables import NaturalNameWarning\n",
        "import warnings\n",
        "warnings.filterwarnings('ignore',category = NaturalNameWarning)\n",
        "verbose = False\n",
        "import datetime\n",
        "import matplotlib.pyplot as plt"
      ],
      "metadata": {
        "id": "ZXcgDXyXRN8D"
      },
      "execution_count": null,
      "outputs": []
    },
    {
      "cell_type": "code",
      "source": [
        "def fix_col_names(df):\n",
        "  '''corrects column names from CIMIS based on dictionary'''\n",
        "  rename_dict = {'DayAirTmpMin.Value':'Tmin',\n",
        "               'DayAirTmpMax.Value':'Tmax',\n",
        "               'DayDewPnt.Value':'Tdew',\n",
        "               'DayAirTmpAvg.Value':'Tavg',\n",
        "               'DayEto.Value':'ETo',\n",
        "               'DayRelHumMin.Value':'RHmin',\n",
        "               'DayRelHumAvg.Value':'RHavg',\n",
        "               'DayPrecip.Value':'Pr'}\n",
        "  df.rename(columns=rename_dict, inplace=True)\n",
        "  dfout = df[['Date','Tmin','Tmax','Tdew','Tavg','ETo','Pr','RHmin','RHavg']]\n",
        "  dfout.set_index(pd.to_datetime(dfout.Date),inplace=True)\n",
        "  return dfout\n",
        "\n",
        "def corr_nref(df,tminNRef='Tmin',tdewNRef='Tdew',tmaxNRef='Tmax',bT=True):\n",
        "    df['dT']=df[tminNRef]-df[tdewNRef]\n",
        "    if bT==True:\n",
        "        df['bT']=0.3\n",
        "    dfAI = df[['Pr','ETo']].dropna(axis=0)\n",
        "    AI = dfAI['Pr'].mean()/df['ETo'].mean()\n",
        "    print('\\t\\tAI = '+str(np.round(AI,2)))\n",
        "\n",
        "    if AI<=0.05:\n",
        "        aT=5\n",
        "    elif (AI >0.05) & (AI<=0.2):\n",
        "        aT=2.5\n",
        "    elif (AI >0.2) & (AI<=0.5):\n",
        "        aT=1.5\n",
        "    elif (AI >0.5) & (AI<=0.65):\n",
        "        aT=0.5\n",
        "    else:\n",
        "        aT=0\n",
        "\n",
        "    df['aT']=aT\n",
        "\n",
        "    # Might need to add a line only to correct if dT > aT from the logic statements above\n",
        "    for dT in df['dT']:\n",
        "      if dT > aT:\n",
        "        df[tmaxNRef+'_corr2']= df[tmaxNRef]-df.bT*(df.dT-df.aT) #(2.13)\n",
        "        df[tminNRef+'_corr2']= df[tminNRef]-df.bT*(df.dT-df.aT) #(2.14)\n",
        "        df[tdewNRef+'_corr2']= df[tdewNRef]+(1.0-df.bT)*(df.dT-df.aT) #(2.15)]\n",
        "      else:\n",
        "        df[tmaxNRef+'_corr2']= df[tmaxNRef]\n",
        "        df[tminNRef+'_corr2']= df[tminNRef]\n",
        "        df[tdewNRef+'_corr2']= df[tdewNRef]\n",
        "    df['AI']= AI\n",
        "    # df.set_index(df.Date,inplace=True)\n",
        "    return df"
      ],
      "metadata": {
        "id": "tEltFtxLRpJ9"
      },
      "execution_count": null,
      "outputs": []
    },
    {
      "cell_type": "code",
      "source": [],
      "metadata": {
        "id": "3U_fKQkclTaF"
      },
      "execution_count": null,
      "outputs": []
    }
  ]
}