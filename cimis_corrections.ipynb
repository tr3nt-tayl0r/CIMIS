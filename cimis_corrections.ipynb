{
  "nbformat": 4,
  "nbformat_minor": 0,
  "metadata": {
    "colab": {
      "provenance": [],
      "authorship_tag": "ABX9TyOYSVtD3EAdK/Gmr5QGDvgH",
      "include_colab_link": true
    },
    "kernelspec": {
      "name": "python3",
      "display_name": "Python 3"
    },
    "language_info": {
      "name": "python"
    }
  },
  "cells": [
    {
      "cell_type": "markdown",
      "metadata": {
        "id": "view-in-github",
        "colab_type": "text"
      },
      "source": [
        "<a href=\"https://colab.research.google.com/github/tr3nt-tayl0r/CIMIS/blob/main/cimis_corrections.ipynb\" target=\"_parent\"><img src=\"https://colab.research.google.com/assets/colab-badge.svg\" alt=\"Open In Colab\"/></a>"
      ]
    },
    {
      "cell_type": "markdown",
      "source": [
        "Clone into github repo locally"
      ],
      "metadata": {
        "id": "45uPYowUQzvf"
      }
    },
    {
      "cell_type": "code",
      "execution_count": 2,
      "metadata": {
        "colab": {
          "base_uri": "https://localhost:8080/"
        },
        "id": "Q1UxAAObKVOD",
        "outputId": "38fcd4b6-0dda-4e04-901a-df6d5d291811"
      },
      "outputs": [
        {
          "output_type": "stream",
          "name": "stdout",
          "text": [
            "Cloning into 'CIMIS'...\n",
            "remote: Enumerating objects: 15, done.\u001b[K\n",
            "remote: Counting objects: 100% (15/15), done.\u001b[K\n",
            "remote: Compressing objects: 100% (11/11), done.\u001b[K\n",
            "remote: Total 15 (delta 2), reused 0 (delta 0), pack-reused 0\u001b[K\n",
            "Receiving objects: 100% (15/15), 4.76 KiB | 4.76 MiB/s, done.\n",
            "Resolving deltas: 100% (2/2), done.\n"
          ]
        }
      ],
      "source": [
        "!git clone https://github.com/tr3nt-tayl0r/CIMIS.git"
      ]
    },
    {
      "cell_type": "code",
      "source": [
        "import glob\n",
        "import os\n",
        "import sys\n",
        "import datetime\n",
        "import numpy as np\n",
        "import pandas as pd\n",
        "import plotly.graph_objects as go\n",
        "import json\n",
        "import requests\n",
        "from tables import NaturalNameWarning\n",
        "import warnings\n",
        "warnings.filterwarnings('ignore',category = NaturalNameWarning)\n",
        "verbose = False\n",
        "import datetime\n",
        "import matplotlib.pyplot as plt\n",
        "from google.colab import userdata"
      ],
      "metadata": {
        "id": "ZXcgDXyXRN8D"
      },
      "execution_count": 6,
      "outputs": []
    },
    {
      "cell_type": "code",
      "source": [
        "def fix_col_names(df):\n",
        "  '''corrects column names from CIMIS based on dictionary'''\n",
        "  rename_dict = {'DayAirTmpMin.Value':'Tmin',\n",
        "               'DayAirTmpMax.Value':'Tmax',\n",
        "               'DayDewPnt.Value':'Tdew',\n",
        "               'DayAirTmpAvg.Value':'Tavg',\n",
        "               'DayEto.Value':'ETo',\n",
        "               'DayRelHumMin.Value':'RHmin',\n",
        "               'DayRelHumAvg.Value':'RHavg',\n",
        "               'DayPrecip.Value':'Pr'}\n",
        "  df.rename(columns=rename_dict, inplace=True)\n",
        "  dfout = df[['Date','Tmin','Tmax','Tdew','Tavg','ETo','Pr','RHmin','RHavg']]\n",
        "  dfout.set_index(pd.to_datetime(dfout.Date),inplace=True)\n",
        "  return dfout\n",
        "\n",
        "def corr_nref(df,tminNRef='Tmin',tdewNRef='Tdew',tmaxNRef='Tmax',bT=True):\n",
        "    df['dT']=df[tminNRef]-df[tdewNRef]\n",
        "    if bT==True:\n",
        "        df['bT']=0.3\n",
        "    dfAI = df[['Pr','ETo']].dropna(axis=0)\n",
        "    AI = dfAI['Pr'].mean()/df['ETo'].mean()\n",
        "    print('\\t\\tAI = '+str(np.round(AI,2)))\n",
        "\n",
        "    if AI<=0.05:\n",
        "        aT=5\n",
        "    elif (AI >0.05) & (AI<=0.2):\n",
        "        aT=2.5\n",
        "    elif (AI >0.2) & (AI<=0.5):\n",
        "        aT=1.5\n",
        "    elif (AI >0.5) & (AI<=0.65):\n",
        "        aT=0.5\n",
        "    else:\n",
        "        aT=0\n",
        "\n",
        "    df['aT']=aT\n",
        "\n",
        "    # Might need to add a line only to correct if dT > aT from the logic statements above\n",
        "    for dT in df['dT']:\n",
        "      if dT > aT:\n",
        "        df[tmaxNRef+'_corr2']= df[tmaxNRef]-df.bT*(df.dT-df.aT) #(2.13)\n",
        "        df[tminNRef+'_corr2']= df[tminNRef]-df.bT*(df.dT-df.aT) #(2.14)\n",
        "        df[tdewNRef+'_corr2']= df[tdewNRef]+(1.0-df.bT)*(df.dT-df.aT) #(2.15)]\n",
        "      else:\n",
        "        df[tmaxNRef+'_corr2']= df[tmaxNRef]\n",
        "        df[tminNRef+'_corr2']= df[tminNRef]\n",
        "        df[tdewNRef+'_corr2']= df[tdewNRef]\n",
        "    df['AI']= AI\n",
        "    # df.set_index(df.Date,inplace=True)\n",
        "    return df"
      ],
      "metadata": {
        "id": "tEltFtxLRpJ9"
      },
      "execution_count": 4,
      "outputs": []
    },
    {
      "cell_type": "code",
      "source": [
        "# This cell is grabbing data from all stations via the CIMIS API. There are limits to how big of a date range you can obtain at one time\n",
        "\n",
        "import requests\n",
        "import json\n",
        "import pandas as pd\n",
        "\n",
        "#daily by station number\n",
        "#http://et.water.ca.gov/api/data?appKey=46c39c6d-4d71-464c-a20f-a5c7d21bba8e&targets=5&startDate=2024-01-01&endDate=2024-06-06&dataItems=day-eto,day-precip,day-sol-rad-avg,day-vap-pres-avg,day-air-tmp-max,day-air-tmp-min,day-air-tmp-avg,day-rel-hum-max,day-rel-hum-min,day-rel-hum-avg,day-dew-pnt,day-wind-spd-avg,day-wind-run,day-soil-tmp-avg&unitOfMeasure=M\n",
        "\n",
        "cimis_api = \"http://et.water.ca.gov/api\"\n",
        "api_key = userdata.get('cimis_key')\n",
        "start_date = \"2024-01-01\"\n",
        "end_date = \"2024-06-19\"\n",
        "data_items = '''day-eto,day-precip,day-sol-rad-avg,\n",
        "                day-vap-pres-avg,day-air-tmp-max,day-air-tmp-min,\n",
        "                day-air-tmp-avg,day-rel-hum-max,day-rel-hum-min,\n",
        "                day-rel-hum-avg,day-dew-pnt,day-wind-spd-avg,\n",
        "                day-wind-run,day-soil-tmp-avg'''\n",
        "# list of possible data items found here: https://et.water.ca.gov/Rest/Index\n",
        "\n",
        "station_ids = []\n",
        "\n",
        "for id in range(13):\n",
        "  #rest_url = 'http://et.water.ca.gov/api/data?appKey=46c39c6d-4d71-464c-a20f-a5c7d21bba8e&targets={}&startDate=2024-01-01&endDate=2024-06-06&dataItems=day-eto,day-precip,day-sol-rad-avg,day-vap-pres-avg,day-air-tmp-max,day-air-tmp-min,day-air-tmp-avg,day-rel-hum-max,day-rel-hum-min,day-rel-hum-avg,day-dew-pnt,day-wind-spd-avg,day-wind-run,day-soil-tmp-avg&unitOfMeasure=M'.format(id)\n",
        "  rest_url = f'{cimis_api}/data?appKey={api_key}&targets={id}&startDate={start_date}&endDate={end_date}&dataItems={data_items}&unitOfMeasure=M'\n",
        "  res = requests.get(rest_url)\n",
        "  print(res.text)\n",
        "\n",
        "  '''\n",
        "  if res.status_code == 200:\n",
        "    response = json.loads(res.text)\n",
        "    payload = response['Data']['Providers'][0]['Records']\n",
        "    if payload != []:\n",
        "      print(id)\n",
        "      station_ids.append(id)\n",
        "\n",
        "      df = pd.json_normalize(payload)\n",
        "      df = df[df.columns.drop(list(df.filter(regex='Unit')))]\n",
        "      df = df[df.columns.drop(list(df.filter(regex='Qc')))]\n",
        "      filename = \"/content/drive/My Drive/CIMIS_Project_Data/CIMIS_daily_raw_data_Trent/station_id{}_cimis_daily_raw_Trent.csv\".format(id)\n",
        "      df.to_csv(filename, index=False)\n",
        "    else:\n",
        "      continue\n",
        "  else:\n",
        "    continue\n",
        "  '''\n",
        "print(station_ids)\n",
        "\n"
      ],
      "metadata": {
        "id": "3U_fKQkclTaF",
        "colab": {
          "base_uri": "https://localhost:8080/"
        },
        "outputId": "e1aab0f6-db1a-4cde-b1c6-6ff2d8fef2b6"
      },
      "execution_count": 9,
      "outputs": [
        {
          "output_type": "stream",
          "name": "stdout",
          "text": [
            "<html><head><title>Request Rejected</title></head><body>The requested URL was rejected. Please consult with your administrator.<br><br>Your support ID is: 16627362855968857803<br><br><a href='javascript:history.back();'>[Go Back]</a></body></html>\n",
            "<html><head><title>Request Rejected</title></head><body>The requested URL was rejected. Please consult with your administrator.<br><br>Your support ID is: 16627362855965764393<br><br><a href='javascript:history.back();'>[Go Back]</a></body></html>\n",
            "<html><head><title>Request Rejected</title></head><body>The requested URL was rejected. Please consult with your administrator.<br><br>Your support ID is: 16627362855965764409<br><br><a href='javascript:history.back();'>[Go Back]</a></body></html>\n",
            "<html><head><title>Request Rejected</title></head><body>The requested URL was rejected. Please consult with your administrator.<br><br>Your support ID is: 16627362855968857867<br><br><a href='javascript:history.back();'>[Go Back]</a></body></html>\n",
            "<html><head><title>Request Rejected</title></head><body>The requested URL was rejected. Please consult with your administrator.<br><br>Your support ID is: 8373563253638518969<br><br><a href='javascript:history.back();'>[Go Back]</a></body></html>\n",
            "<html><head><title>Request Rejected</title></head><body>The requested URL was rejected. Please consult with your administrator.<br><br>Your support ID is: 8373563253638519001<br><br><a href='javascript:history.back();'>[Go Back]</a></body></html>\n",
            "<html><head><title>Request Rejected</title></head><body>The requested URL was rejected. Please consult with your administrator.<br><br>Your support ID is: 8373563253640435451<br><br><a href='javascript:history.back();'>[Go Back]</a></body></html>\n",
            "<html><head><title>Request Rejected</title></head><body>The requested URL was rejected. Please consult with your administrator.<br><br>Your support ID is: 8373563253638519017<br><br><a href='javascript:history.back();'>[Go Back]</a></body></html>\n",
            "<html><head><title>Request Rejected</title></head><body>The requested URL was rejected. Please consult with your administrator.<br><br>Your support ID is: 8373563253638519081<br><br><a href='javascript:history.back();'>[Go Back]</a></body></html>\n",
            "<html><head><title>Request Rejected</title></head><body>The requested URL was rejected. Please consult with your administrator.<br><br>Your support ID is: 8373563253640435483<br><br><a href='javascript:history.back();'>[Go Back]</a></body></html>\n",
            "<html><head><title>Request Rejected</title></head><body>The requested URL was rejected. Please consult with your administrator.<br><br>Your support ID is: 16627362855968857963<br><br><a href='javascript:history.back();'>[Go Back]</a></body></html>\n",
            "<html><head><title>Request Rejected</title></head><body>The requested URL was rejected. Please consult with your administrator.<br><br>Your support ID is: 16627362855965764521<br><br><a href='javascript:history.back();'>[Go Back]</a></body></html>\n",
            "<html><head><title>Request Rejected</title></head><body>The requested URL was rejected. Please consult with your administrator.<br><br>Your support ID is: 8373563253640435515<br><br><a href='javascript:history.back();'>[Go Back]</a></body></html>\n",
            "[]\n"
          ]
        }
      ]
    }
  ]
}